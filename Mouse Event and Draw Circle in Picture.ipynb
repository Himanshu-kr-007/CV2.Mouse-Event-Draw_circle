{
 "cells": [
  {
   "cell_type": "code",
   "execution_count": null,
   "id": "50fa5043",
   "metadata": {},
   "outputs": [],
   "source": [
    "import cv2\n",
    "import numpy as np"
   ]
  },
  {
   "cell_type": "markdown",
   "id": "e8e79bda",
   "metadata": {},
   "source": [
    "# Mouse Events"
   ]
  },
  {
   "cell_type": "code",
   "execution_count": null,
   "id": "a9822639",
   "metadata": {},
   "outputs": [],
   "source": [
    "def lw(event, x, y, flags, params):\n",
    "    if event == cv2.EVENT_LBUTTONDBLCLK:\n",
    "        print(\"Mouse Button Double Clicked\")\n",
    "        cv2.circle(photo, (150,150),50, [255,55,0],2)\n",
    "    elif event == cv2.EVENT_MOUSEMOVE:\n",
    "        print(\"Mouse is Moving\")\n",
    "    else:\n",
    "        print(\"Some Mouse Operation is going on\")\n",
    "cap =cv2.VideoCapture(0)\n",
    "while True:\n",
    "    ret, photo = cap.read()\n",
    "    cv2.namedWindow(winname=\"Video\")\n",
    "    cv2.setMouseCallback(\"Video\", lw)\n",
    "    cv2.imshow(\"Video\", photo)\n",
    "    if cv2.waitKey(1)==13:\n",
    "        cv2.imwrite(\"Image.jpg\",photo)\n",
    "        break\n",
    "        \n",
    "cv2.destroyAllWindows()\n",
    "cap.release()\n"
   ]
  },
  {
   "cell_type": "markdown",
   "id": "b45b0238",
   "metadata": {},
   "source": [
    "# Drawing Circle on Picture"
   ]
  },
  {
   "cell_type": "markdown",
   "id": "45282822",
   "metadata": {},
   "source": [
    "cap =cv2.VideoCapture(0)\n",
    "ret, pic = cap.read()"
   ]
  },
  {
   "cell_type": "code",
   "execution_count": null,
   "id": "d58344a3",
   "metadata": {},
   "outputs": [],
   "source": [
    "def lw1(event, x, y, flags, params):\n",
    "    if event == cv2.EVENT_MOUSEMOVE:\n",
    "        print(\"Mouse Button Double Clicked\")\n",
    "        print( \"X: \",x, \"Y: \",y)\n",
    "        cv2.circle(pic, (x,y), 5, [255,55,0], -2)\n",
    "\n",
    "cv2.namedWindow(winname=\"Circle\")\n",
    "cv2.setMouseCallback(\"Circle\", lw1)\n",
    "\n",
    "while True: \n",
    "    cv2.imshow(\"Circle\", pic)\n",
    "    if cv2.waitKey(1)==13:\n",
    "        break\n",
    "cv2.destroyAllWindows()\n",
    "cap.release()"
   ]
  },
  {
   "cell_type": "code",
   "execution_count": null,
   "id": "1baca63b",
   "metadata": {},
   "outputs": [],
   "source": [
    "cv2.destroyAllWindows()\n",
    "cap.release()"
   ]
  },
  {
   "cell_type": "code",
   "execution_count": null,
   "id": "d5941a42",
   "metadata": {},
   "outputs": [],
   "source": []
  }
 ],
 "metadata": {
  "kernelspec": {
   "display_name": "Python 3 (ipykernel)",
   "language": "python",
   "name": "python3"
  },
  "language_info": {
   "codemirror_mode": {
    "name": "ipython",
    "version": 3
   },
   "file_extension": ".py",
   "mimetype": "text/x-python",
   "name": "python",
   "nbconvert_exporter": "python",
   "pygments_lexer": "ipython3",
   "version": "3.9.4"
  }
 },
 "nbformat": 4,
 "nbformat_minor": 5
}
